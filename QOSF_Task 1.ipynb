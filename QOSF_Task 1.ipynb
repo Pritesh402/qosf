{
 "cells": [
  {
   "cell_type": "markdown",
   "metadata": {
    "id": "iYL_n0AipJaD"
   },
   "source": [
    "The first few code snippets here show my learning process in creating the final code for the first part of the first question.\n",
    "\n",
    "I have organized the final solution to the Sub Task 1 in the \"Final Circuit\" section of this notebook, and it follows the solution for the secont part of the first question in section \"Final Circuit Sub Task 2\"\n",
    "\n",
    "Note: I have reused the gate matrices multiple times, but I have declared it only in the first cell, and the final circuit cell of the first sub part. So, if you want to run this notebook, run all from the begining."
   ]
  },
  {
   "cell_type": "code",
   "execution_count": 20,
   "metadata": {
    "id": "D56KHMvQCBPZ"
   },
   "outputs": [],
   "source": [
    "import numpy as np\n",
    "\n",
    "# initializing the qubits and gates\n",
    "\n",
    "#|0>\n",
    "ket0 = np.array([[1],[0]])\n",
    "\n",
    "# |1>\n",
    "ket1 = np.array([[0],[1]])\n",
    "\n",
    "# <0|\n",
    "bra0 = np.array([[1,0]])\n",
    "\n",
    "# <1|\n",
    "bra1 = np.array([[0,1]])\n",
    "\n",
    "X = np.array([[0,1],\n",
    "              [1,0]])\n",
    "H = 1/np.sqrt(2) * np.array([[1,1],\n",
    "                            [1,-1]])\n",
    "I = np.array([[1,0],\n",
    "              [0,1]])\n",
    "\n",
    "# making the CNOT gate as:\n",
    "# CNOT = |0><0| ⊗ I + |1><1| ⊗ X\n",
    "cnot = np.kron(np.matmul(ket0,bra0), I) + np.kron(np.matmul(ket1,bra1), X)"
   ]
  },
  {
   "cell_type": "markdown",
   "metadata": {
    "id": "tl58enSlp4vt"
   },
   "source": [
    "# Single Qubit Circuit"
   ]
  },
  {
   "cell_type": "code",
   "execution_count": 21,
   "metadata": {
    "colab": {
     "base_uri": "https://localhost:8080/"
    },
    "id": "br7iBTnvHdzg",
    "outputId": "952a8fa4-e03a-49b2-adc0-ac1857e84261"
   },
   "outputs": [
    {
     "name": "stdout",
     "output_type": "stream",
     "text": [
      "[[ 0.70710678]\n",
      " [-0.70710678]]\n"
     ]
    }
   ],
   "source": [
    "# single qubit circuit:\n",
    "\n",
    "# applying X gate, then H gate on ket0\n",
    "new_state = np.matmul(X, ket0)\n",
    "new_state = np.matmul(H, new_state)\n",
    "\n",
    "print(new_state)"
   ]
  },
  {
   "cell_type": "markdown",
   "metadata": {
    "id": "6ehhFxFFp_v-"
   },
   "source": [
    "# Two Qubit Circuit"
   ]
  },
  {
   "cell_type": "code",
   "execution_count": 22,
   "metadata": {
    "colab": {
     "base_uri": "https://localhost:8080/"
    },
    "id": "1jMP0sn8DsDi",
    "outputId": "02f858e6-85de-47bf-d938-95aed5787f1e"
   },
   "outputs": [
    {
     "name": "stdout",
     "output_type": "stream",
     "text": [
      "Initial State: \n",
      "[[1]\n",
      " [0]\n",
      " [0]\n",
      " [0]]\n",
      "Final State: \n",
      "[[0.        ]\n",
      " [0.        ]\n",
      " [0.70710678]\n",
      " [0.70710678]]\n"
     ]
    }
   ],
   "source": [
    "# 2 qubit circuit:\n",
    "\n",
    "# initializing all qubits to 0\n",
    "initial_state = ket0\n",
    "\n",
    "n_qubits = 2\n",
    "\n",
    "# creating the 2^n vector to represent 2 qubits through kronecker product\n",
    "for _ in range(n_qubits-1):   # taking n-1 because I have already assigned initial_state to be ket0\n",
    "  initial_state = np.kron(ket0, initial_state)\n",
    "\n",
    "print(\"Initial State: \")\n",
    "print(initial_state)\n",
    "\n",
    "X_onFirst = np.kron(X, I) # created 2 qubit X gate to act on first qubit\n",
    "H_onSecond = np.kron(I, H) # created 2 qubit H gate to act on second qubit\n",
    "\n",
    "# applying X gate on first qubit, H gate on second qubit, then CNOT gate\n",
    "new_state = np.matmul(X_onFirst, initial_state)\n",
    "new_state = np.matmul(H_onSecond, new_state)\n",
    "new_state = np.matmul(cnot, new_state)\n",
    "\n",
    "print(\"Final State: \")\n",
    "print(new_state)"
   ]
  },
  {
   "cell_type": "markdown",
   "metadata": {
    "id": "V0_Bw9WCqD8e"
   },
   "source": [
    "# Multi Qubit Circuit"
   ]
  },
  {
   "cell_type": "code",
   "execution_count": 23,
   "metadata": {
    "colab": {
     "base_uri": "https://localhost:8080/"
    },
    "id": "PBcMYL3j9MB6",
    "outputId": "19a40565-7877-4b8b-8022-b09d9c205e45"
   },
   "outputs": [
    {
     "name": "stdout",
     "output_type": "stream",
     "text": [
      "[[0.25]\n",
      " [0.25]\n",
      " [0.25]\n",
      " [0.25]\n",
      " [0.25]\n",
      " [0.25]\n",
      " [0.25]\n",
      " [0.25]\n",
      " [0.25]\n",
      " [0.25]\n",
      " [0.25]\n",
      " [0.25]\n",
      " [0.25]\n",
      " [0.25]\n",
      " [0.25]\n",
      " [0.25]]\n"
     ]
    }
   ],
   "source": [
    "# multi (>2) qubit circuit:\n",
    "\n",
    "n_qubits = 4\n",
    "\n",
    "initial_state = ket0\n",
    "\n",
    "# here, I have initialized the n-qubit gates by assigning them the values of single quibt gate\n",
    "# I have used them in the loop below, performing kronecker product with themselves to create n-qubit gate.\n",
    "X_for_n = X\n",
    "H_for_n = H\n",
    "\n",
    "for _ in range(n_qubits-1):\n",
    "  initial_state = np.kron(ket0, initial_state)\n",
    "  X_for_n = np.kron(X_for_n, X)\n",
    "  H_for_n = np.kron(H_for_n, H)\n",
    "\n",
    "new_state = np.matmul(X_for_n, initial_state)\n",
    "new_state = np.matmul(H_for_n, initial_state)\n",
    "\n",
    "# here, I have applied the X gate and H gate on each of the qubit.\n",
    "# On each qubit, I first applied X gate, then H gate.\n",
    "\n",
    "print(\"Final State: \")\n",
    "print(new_state)"
   ]
  },
  {
   "cell_type": "code",
   "execution_count": 24,
   "metadata": {
    "colab": {
     "base_uri": "https://localhost:8080/",
     "height": 660
    },
    "id": "ISFteV94Eyrr",
    "outputId": "6be0222a-b604-4dd4-fba4-0c1d789f9373"
   },
   "outputs": [
    {
     "name": "stdout",
     "output_type": "stream",
     "text": [
      "Initial State: \n",
      "[[0]\n",
      " [0]\n",
      " [0]\n",
      " [0]\n",
      " [0]\n",
      " [0]\n",
      " [1]\n",
      " [0]\n",
      " [0]\n",
      " [0]\n",
      " [0]\n",
      " [0]\n",
      " [0]\n",
      " [0]\n",
      " [0]\n",
      " [0]]\n",
      "Final State: \n",
      "[[0]\n",
      " [0]\n",
      " [0]\n",
      " [0]\n",
      " [0]\n",
      " [0]\n",
      " [0]\n",
      " [1]\n",
      " [0]\n",
      " [0]\n",
      " [0]\n",
      " [0]\n",
      " [0]\n",
      " [0]\n",
      " [0]\n",
      " [0]]\n"
     ]
    },
    {
     "data": {
      "application/vnd.google.colaboratory.intrinsic+json": {
       "type": "string"
      },
      "text/plain": [
       "'\\nand I got that answer.\\nSo, from this I learned that doing kronecker product with itself, I can create\\nCNOT gate that I can apply in the circuit to work on subsequent pairs of qubits,\\nmaking the first qubit control qubit and the later qubit target qubit.\\nSo, I got |0111> in this code\\n'"
      ]
     },
     "execution_count": 24,
     "metadata": {},
     "output_type": "execute_result"
    }
   ],
   "source": [
    "# Here, I am trying to learn to use CNOT gate through matrix multiplication in cases when we have more than 2 qubits.\n",
    "\n",
    "# |0110>\n",
    "initial_state = np.kron(ket0, np.kron(ket1, np.kron(ket1, ket0)))\n",
    "\n",
    "print(\"Initial State: \")\n",
    "print(initial_state)\n",
    "\n",
    "# creating CNOT gtae such that it would act in this way: CNOT(q0, q1) and CNOT(q2, q3)\n",
    "CNOT_gate = np.kron(cnot, cnot)\n",
    "\n",
    "new_state = np.matmul(CNOT_gate, initial_state)\n",
    "# expected answer: |0111>\n",
    "\n",
    "print(\"Final State: \")\n",
    "print(new_state)\n",
    "\n",
    "\"\"\"\n",
    "and I got that answer.\n",
    "So, from this I learned that doing kronecker product with itself, I can create\n",
    "CNOT gate that I can apply in the circuit to work on subsequent pairs of qubits,\n",
    "making the first qubit control qubit and the later qubit target qubit.\n",
    "So, I got |0111> in this code\n",
    "\"\"\""
   ]
  },
  {
   "cell_type": "markdown",
   "metadata": {
    "id": "T_uQx5sxlVel"
   },
   "source": [
    "I wanted to apply the CNOT gate to every other pair in my quantum circiuit.\n",
    "For example, for:\n",
    "> q0q1q2q3q4 \\\\\n",
    "\n",
    "I wanted to apply the gates this way: \\\\\n",
    "\n",
    "> CNOT(q0, q1) and CNOT(q2,q3) \\\\\n",
    "\n",
    "So, in this code snippet, I learned a way to do it through matrix multiplication. Turns out, we can simply take the kronecker product of two CNOT gates, and adjust them according to the number of qubits.\n",
    "In this following cell, I tried to apply CNOT gate when we have odd number of qubits. In this case, there will be one qubit which will stay unaffected of the gate operation.\n",
    "\n",
    "---\n",
    "\n",
    "\n",
    "\n",
    "\n",
    "\n"
   ]
  },
  {
   "cell_type": "code",
   "execution_count": 25,
   "metadata": {
    "colab": {
     "base_uri": "https://localhost:8080/"
    },
    "id": "Ju4oIZs3GSrv",
    "outputId": "93103d08-2953-457f-b946-df4e2f4503f1"
   },
   "outputs": [
    {
     "name": "stdout",
     "output_type": "stream",
     "text": [
      "Initial State: \n",
      "[[0]\n",
      " [0]\n",
      " [0]\n",
      " [0]\n",
      " [0]\n",
      " [0]\n",
      " [1]\n",
      " [0]]\n",
      "Final State: \n",
      "[[0]\n",
      " [0]\n",
      " [0]\n",
      " [0]\n",
      " [1]\n",
      " [0]\n",
      " [0]\n",
      " [0]]\n"
     ]
    }
   ],
   "source": [
    "n_qubits = 3\n",
    "\n",
    "# making |110> as initial state\n",
    "initial_state = np.kron(ket1, np.kron(ket1, ket0))\n",
    "\n",
    "print(\"Initial State: \")\n",
    "print(initial_state)\n",
    "\n",
    "def CNOT_gate_creator(n):\n",
    "  CNOT_gate = cnot  # initializing to be the 2-qubit gate\n",
    "  for _ in range(n-1):\n",
    "    CNOT_gate = np.kron(CNOT_gate, cnot)\n",
    "\n",
    "  return(CNOT_gate)\n",
    "\n",
    "# applying this condition because CNOT gate needs atleast 2 qubits.\n",
    "if n_qubits >= 2:\n",
    "  if n_qubits % 2 == 0:\n",
    "    n = int(n_qubits / 2)                # this because CNOT gate acts on a control qubit and target qubit, so, we need to perform the kronecker product half times.\n",
    "    CNOT_gate = CNOT_gate_creator(n)     # calls the function above that creates the desired CNOT gate.\n",
    "  else:\n",
    "    n_qubits -= 1\n",
    "    n = int(n_qubits / 2)\n",
    "    CNOT_gate = CNOT_gate_creator(n)\n",
    "    CNOT_gate = np.kron(CNOT_gate, I)   # so that if there is one qubit left without a pair, we don't do anything to it while applying CNOT gate on other pairs\n",
    "\n",
    "  new_state = np.matmul(CNOT_gate, initial_state)\n",
    "else:\n",
    "  new_state = initial_state               # this because the CNOT gate needs atleast two qubits (a control and a target) to act on\n",
    "\n",
    "print(\"Final State: \")\n",
    "print(new_state)"
   ]
  },
  {
   "cell_type": "markdown",
   "metadata": {
    "id": "h-ruhzJ-qInj"
   },
   "source": [
    "# Final Circuit\n",
    "\n",
    "Collecting everything:"
   ]
  },
  {
   "cell_type": "code",
   "execution_count": 1,
   "metadata": {
    "colab": {
     "base_uri": "https://localhost:8080/",
     "height": 582
    },
    "id": "D9ujSlgUGFIM",
    "outputId": "66eda262-7f55-407b-b287-4c217bc9d1be"
   },
   "outputs": [
    {
     "data": {
      "image/png": "[encoded data removed]",
      "text/plain": [
       "<Figure size 1000x600 with 1 Axes>"
      ]
     },
     "metadata": {},
     "output_type": "display_data"
    },
    {
     "name": "stdout",
     "output_type": "stream",
     "text": [
      "Maximum number of qubits simulated: 14\n"
     ]
    }
   ],
   "source": [
    "import numpy as np\n",
    "import matplotlib.pyplot as plt\n",
    "import time\n",
    "\n",
    "ket0 = np.array([[1],[0]])\n",
    "ket1 = np.array([[0],[1]])\n",
    "bra0 = np.array([[1,0]])\n",
    "bra1 = np.array([[0,1]])\n",
    "\n",
    "X = np.array([[0,1],[1,0]])\n",
    "H = 1/np.sqrt(2) * np.array([[1,1],[1,-1]])\n",
    "I = np.array([[1,0],[0,1]])\n",
    "cnot = np.kron(np.matmul(ket0,bra0), I) + np.kron(np.matmul(ket1,bra1), X)\n",
    "\n",
    "def simulate_circuit(n_qubits):\n",
    "\n",
    "    initial_state = ket0\n",
    "    X_gate = X\n",
    "    H_gate = H\n",
    "\n",
    "    for _ in range(n_qubits - 1):\n",
    "      initial_state = np.kron(ket0, initial_state)\n",
    "      X_gate = np.kron(X_gate, X)\n",
    "      H_gate = np.kron(H_gate, H)\n",
    "\n",
    "    # applying X gate on each qubit\n",
    "    new_state = np.matmul(X_gate, initial_state)\n",
    "\n",
    "    # applying H gate on each qubit\n",
    "    new_state = np.matmul(H_gate, new_state)\n",
    "\n",
    "    # creating the appropriate CNOT gate to act on every other pair of the qubits\n",
    "    def CNOT_gate_creator(n):\n",
    "      CNOT_gate = cnot\n",
    "      for _ in range(n-1):\n",
    "        CNOT_gate = np.kron(CNOT_gate, cnot)\n",
    "\n",
    "      return(CNOT_gate)\n",
    "\n",
    "    if n_qubits >= 2:\n",
    "      if n_qubits % 2 == 0:\n",
    "        n = int(n_qubits / 2)\n",
    "        CNOT_gate = CNOT_gate_creator(n)\n",
    "      else:\n",
    "        n_qubits -= 1\n",
    "        n = int(n_qubits / 2)\n",
    "        CNOT_gate = CNOT_gate_creator(n)\n",
    "        CNOT_gate = np.kron(CNOT_gate, I)\n",
    "\n",
    "      new_state = np.matmul(CNOT_gate, new_state)\n",
    "\n",
    "    return new_state\n",
    "\n",
    "def measure_runtime(n_qubits):\n",
    "    start_time = time.time()      # time recording started\n",
    "    simulate_circuit(n_qubits)    # running the code to simulate the circuit\n",
    "    end_time = time.time()        # time recording ended\n",
    "    return end_time - start_time\n",
    "\n",
    "\n",
    "\n",
    "\"\"\"\n",
    "I ran this code to find out the maximum number of qubits that this code could simulate, and found it to be 14.\n",
    "\n",
    "# starting with 2 qubits\n",
    "n_qubits = 2\n",
    "while True:\n",
    "  runtime = measure_runtime(n_qubits)\n",
    "\n",
    "  print(n_qubits)\n",
    "  n_qubits += 1\n",
    "\"\"\"\n",
    "\n",
    "\n",
    "\n",
    "# plotting the graph of number of quibts vs runtime\n",
    "\n",
    "n_qubits_range = range(2, 15)  # because my system could simulate only 14 qubits\n",
    "runtimes = [measure_runtime(n) for n in n_qubits_range]\n",
    "plt.figure(figsize=(10, 6))\n",
    "plt.plot(n_qubits_range, runtimes, 'bo-')\n",
    "plt.xlabel('Number of Qubits')\n",
    "plt.ylabel('Runtime (seconds)')\n",
    "plt.title('Quantum Circuit Simulation Runtime vs Number of Qubits')\n",
    "plt.grid(True)\n",
    "plt.show()\n",
    "\n",
    "\n",
    "print(f\"Maximum number of qubits simulated: {max(n_qubits_range)}\")"
   ]
  },
  {
   "cell_type": "markdown",
   "metadata": {
    "id": "uyxBp2_J6_dr"
   },
   "source": [
    "I used while loop to let the code keep simulating the increasing number of qubits till my laptop could hande. After simulating 14 qubits, I got this error message:\n",
    "\n",
    "> \"Your session crashed after using all available RAM.\"\n",
    "\n",
    "I observed that the session crashed while the multi qubit gates were being formed in the loop. So, I guess, if there is a better way to create those gates, we could be able to simulate more qubits."
   ]
  },
  {
   "cell_type": "markdown",
   "metadata": {
    "id": "DrkZ9J7Mz3Y0"
   },
   "source": [
    "# Sub Task 2\n",
    "\n",
    "I think I learned a lot in this part.\n",
    "Here, first I had to learn what it means by tensor, n-dimensional tensor, and what it meant by a tensor of shape (2,2,2,....2), tensor multiplication, and tensor contraction. Then I went into transforming my previous state vector into the n-dimensional tensor."
   ]
  },
  {
   "cell_type": "code",
   "execution_count": 2,
   "metadata": {
    "colab": {
     "base_uri": "https://localhost:8080/"
    },
    "id": "3pwYicUbQIrk",
    "outputId": "2a3e5839-8eb1-4d24-8642-94f326550df1"
   },
   "outputs": [
    {
     "name": "stdout",
     "output_type": "stream",
     "text": [
      "[[[[[1 0]\n",
      "    [0 0]]\n",
      "\n",
      "   [[0 0]\n",
      "    [0 0]]]\n",
      "\n",
      "\n",
      "  [[[0 0]\n",
      "    [0 0]]\n",
      "\n",
      "   [[0 0]\n",
      "    [0 0]]]]\n",
      "\n",
      "\n",
      "\n",
      " [[[[0 0]\n",
      "    [0 0]]\n",
      "\n",
      "   [[0 0]\n",
      "    [0 0]]]\n",
      "\n",
      "\n",
      "  [[[0 0]\n",
      "    [0 0]]\n",
      "\n",
      "   [[0 0]\n",
      "    [0 0]]]]]\n",
      "Number of qubits simulated:  5\n"
     ]
    }
   ],
   "source": [
    "# number of qubits to simulate\n",
    "n = 5\n",
    "\n",
    "# initializing the state to be zero\n",
    "state = ket0\n",
    "for _ in range(n-1):\n",
    "  state = np.kron(state, ket0)\n",
    "\n",
    "# reshaping the 2^n vector into an n-dimensional tensor of shape (2, 2, 2...2) for n qubits\n",
    "state = state.reshape((2,) * n)\n",
    "\n",
    "print(state)\n",
    "\n",
    "# gives the number of qubits in case we only have the state vector\n",
    "print(\"Number of qubits simulated: \", len(state.shape))"
   ]
  },
  {
   "cell_type": "markdown",
   "metadata": {
    "id": "5WanafO5Ujmi"
   },
   "source": [
    "Here, I tried different ways and finally learned to simulate 3 qubits"
   ]
  },
  {
   "cell_type": "code",
   "execution_count": 3,
   "metadata": {
    "colab": {
     "base_uri": "https://localhost:8080/"
    },
    "id": "fs7knGB9cF1S",
    "outputId": "7c536ac2-18a5-4264-bf05-4d6e9fbc06c8"
   },
   "outputs": [
    {
     "name": "stdout",
     "output_type": "stream",
     "text": [
      "Initial State:  [1 0 0 0 0 0 0 0]\n",
      "[ 0.35355339 -0.35355339 -0.35355339  0.35355339 -0.35355339  0.35355339\n",
      "  0.35355339 -0.35355339]\n"
     ]
    }
   ],
   "source": [
    "# number of qubits to simulate\n",
    "n_qubits = 3\n",
    "\n",
    "# initializing the states to be all zero\n",
    "state = ket0\n",
    "for _ in range(n_qubits - 1):\n",
    "  state = np.kron(state, ket0)\n",
    "\n",
    "state = state.reshape((2,) * n_qubits)\n",
    "\n",
    "print(\"Initial State: \", state.flatten())\n",
    "\n",
    "def gates_with_tensordot(state):\n",
    "\n",
    "  # I want to apply X gate on each qubit at even index, and H gate on each qubit at odd index\n",
    "  for i in range(n_qubits):\n",
    "\n",
    "    state = np.tensordot(X, state, axes=([1], [i]))   # applying the X gate\n",
    "    # rearranging the axes to maintain the original order of the qubits\n",
    "    axes = list(range(1, i + 1)) + [0] + list(range(i + 1, n_qubits))\n",
    "    state = np.transpose(state, axes)\n",
    "\n",
    "    state = np.tensordot(H, state, axes=([1], [i]))   # applying the H gate\n",
    "    axes = list(range(1, i + 1)) + [0] + list(range(i + 1, n_qubits))\n",
    "    state = np.transpose(state, axes)\n",
    "\n",
    "  return state\n",
    "\n",
    "# applying X and H gates\n",
    "new_state = gates_with_tensordot(state)\n",
    "\n",
    "print(new_state.flatten())"
   ]
  },
  {
   "cell_type": "markdown",
   "metadata": {},
   "source": [
    "In this part, I learned a way to apply CNOT gate on this n-dimensional tensor. \n",
    "Instead of applying it like the one in previous circuit, I have applied here differently.\n",
    "Like for a qubit\n",
    "\n",
    "> q0q1q2q3q4, \n",
    "\n",
    "I applied CNOT gate as:\n",
    "CNOT(q0, q1), CNOT(q1, q2), CNOT(q2, q3), CNOT(q3, q4)"
   ]
  },
  {
   "cell_type": "code",
   "execution_count": 4,
   "metadata": {
    "colab": {
     "base_uri": "https://localhost:8080/"
    },
    "id": "IW8lj9bHWML1",
    "outputId": "7db9fbda-9c6a-43a6-f5cc-11d62a4ff373"
   },
   "outputs": [
    {
     "name": "stdout",
     "output_type": "stream",
     "text": [
      "[[ 0.5 -0.5]\n",
      " [ 0.5 -0.5]]\n",
      "[ 0.5 -0.5  0.5 -0.5]\n"
     ]
    }
   ],
   "source": [
    "# number of qubits to simulate\n",
    "n_qubits = 2\n",
    "\n",
    "cnot = np.array([[1, 0, 0, 0],\n",
    "                 [0, 1, 0, 0],\n",
    "                 [0, 0, 0, 1],\n",
    "                 [0, 0, 1, 0]])\n",
    "\n",
    "# initializing the states to be all zero\n",
    "state = ket0\n",
    "for _ in range(n_qubits - 1):\n",
    "  state = np.kron(state, ket0)\n",
    "\n",
    "state = state.reshape((2,) * n_qubits)\n",
    "\n",
    "\n",
    "def HX_gates(state):\n",
    "\n",
    "  # I want to apply X gate on each qubit at even index, and H gate on each qubit at odd index\n",
    "  for i in range(n_qubits):\n",
    "\n",
    "    state = np.tensordot(X, state, axes=([1], [i]))   # applying the X gate\n",
    "    # rearranging the axes to maintain the original order of the qubits\n",
    "    axes = list(range(1, i + 1)) + [0] + list(range(i + 1, n_qubits))\n",
    "    state = np.transpose(state, axes)\n",
    "\n",
    "    state = np.tensordot(H, state, axes=([1], [i]))   # applying the H gate\n",
    "    axes = list(range(1, i + 1)) + [0] + list(range(i + 1, n_qubits))\n",
    "    state = np.transpose(state, axes)\n",
    "\n",
    "  return state\n",
    "\n",
    "\n",
    "def cnot_gate(state):\n",
    "    for i in range(n_qubits - 1):\n",
    "        # I reshaped the state to apply the CNOT gate to qubits i and i+1\n",
    "        shape_before = state.shape\n",
    "        state = np.moveaxis(state, [i, i+1], [-2, -1])\n",
    "        state = state.reshape((-1, 4))\n",
    "        state = np.dot(state, cnot.T)\n",
    "        state = state.reshape(shape_before)\n",
    "        state = np.moveaxis(state, [-2, -1], [i, i+1])\n",
    "\n",
    "    return state\n",
    "\n",
    "\n",
    "\n",
    "# applying X and H gates\n",
    "new_state = HX_gates(state)\n",
    "new_state = cnot_gate(new_state)\n",
    "\n",
    "print(new_state)\n",
    "\n",
    "print(new_state.flatten())"
   ]
  },
  {
   "cell_type": "markdown",
   "metadata": {
    "id": "eFEvuVaAU6lj"
   },
   "source": [
    "To check if my preious code gave right answer, I used the idea of simulating the circuit of 3 qubits using 2^n vector representation and the matrix product for X and H gates."
   ]
  },
  {
   "cell_type": "code",
   "execution_count": 5,
   "metadata": {
    "colab": {
     "base_uri": "https://localhost:8080/"
    },
    "id": "Ac_N3C_XPyX6",
    "outputId": "9ca79d39-0ba3-4006-90bc-5d98835cc81c"
   },
   "outputs": [
    {
     "name": "stdout",
     "output_type": "stream",
     "text": [
      "[[ 0.5]\n",
      " [-0.5]\n",
      " [ 0.5]\n",
      " [-0.5]]\n"
     ]
    }
   ],
   "source": [
    "X_gate = X\n",
    "H_gate = H\n",
    "\n",
    "n_qubits = 2\n",
    "initial_state = ket0\n",
    "\n",
    "for _ in range(n_qubits - 1):\n",
    "    initial_state = np.kron(ket0, initial_state)\n",
    "    X_gate = np.kron(X_gate, X)\n",
    "    H_gate = np.kron(H_gate, H)\n",
    "\n",
    "\n",
    "new_state = np.matmul(X_gate, initial_state)\n",
    "new_state = np.matmul(H_gate, new_state)\n",
    "new_state = np.matmul(cnot, new_state)\n",
    "\n",
    "print(new_state)"
   ]
  },
  {
   "cell_type": "markdown",
   "metadata": {
    "id": "_1GtQ81XVJAt"
   },
   "source": [
    "and, I got exactly the same answer!\n",
    "\n",
    "So, now I went on to finally implement the circuit."
   ]
  },
  {
   "cell_type": "markdown",
   "metadata": {
    "id": "AV_I1q59u0eL"
   },
   "source": [
    "# Final Circuit Sub Task 2"
   ]
  },
  {
   "cell_type": "code",
   "execution_count": 6,
   "metadata": {
    "colab": {
     "base_uri": "https://localhost:8080/",
     "height": 1000
    },
    "id": "7cAjsi-ilHg4",
    "outputId": "99810b94-1e61-407d-8164-826e252eb337"
   },
   "outputs": [
    {
     "name": "stdout",
     "output_type": "stream",
     "text": [
      "Number of qubits Simulated: \n",
      "2\n",
      "3\n",
      "4\n",
      "5\n",
      "6\n",
      "7\n",
      "8\n",
      "9\n",
      "10\n",
      "11\n",
      "12\n",
      "13\n",
      "14\n",
      "15\n",
      "16\n",
      "17\n",
      "18\n",
      "19\n",
      "20\n",
      "21\n",
      "22\n",
      "23\n",
      "24\n",
      "25\n",
      "26\n",
      "27\n",
      "28\n"
     ]
    },
    {
     "data": {
      "image/png": "[encoded data removed]",
      "text/plain": [
       "<Figure size 1000x600 with 1 Axes>"
      ]
     },
     "metadata": {},
     "output_type": "display_data"
    },
    {
     "name": "stdout",
     "output_type": "stream",
     "text": [
      "Maximum number of qubits simulated: 28\n"
     ]
    }
   ],
   "source": [
    "def HX_gates(state):\n",
    "\n",
    "  # I want to apply X gate on each qubit at even index, and H gate on each qubit at odd index\n",
    "  for i in range(n_qubits):\n",
    "\n",
    "    state = np.tensordot(X, state, axes=([1], [i]))   # applying the X gate\n",
    "    # rearranging the axes to maintain the original order of the qubits\n",
    "    axes = list(range(1, i + 1)) + [0] + list(range(i + 1, n_qubits))\n",
    "    state = np.transpose(state, axes)\n",
    "\n",
    "    state = np.tensordot(H, state, axes=([1], [i]))   # applying the H gate\n",
    "    axes = list(range(1, i + 1)) + [0] + list(range(i + 1, n_qubits))\n",
    "    state = np.transpose(state, axes)\n",
    "\n",
    "  return state\n",
    "\n",
    "\n",
    "def cnot_gate(state):\n",
    "    for i in range(n_qubits - 1):   # n-1 to make sure that there will always be i+1 to make it a target qubit at the end\n",
    "        # I reshaped the state to apply the CNOT gate to qubits i and i+1\n",
    "        shape_before = state.shape\n",
    "        state = np.moveaxis(state, [i, i+1], [-2, -1])\n",
    "        state = state.reshape((-1, 4))\n",
    "        state = np.dot(state, cnot.T)\n",
    "        state = state.reshape(shape_before)\n",
    "        state = np.moveaxis(state, [-2, -1], [i, i+1])\n",
    "\n",
    "    \"\"\"\n",
    "    This part looks too complicated, and I went through a long process of trial\n",
    "    and error to find out a way to impliment the CNOT gate on subsequent qubits\n",
    "    \"\"\"\n",
    "\n",
    "    return state\n",
    "\n",
    "\n",
    "def measure_runtime(n_qubits, state):\n",
    "    start_time = time.time()      # time recording started\n",
    "\n",
    "    new_state = HX_gates(state)\n",
    "    new_state = cnot_gate(new_state)\n",
    "\n",
    "    end_time = time.time()        # time recording ended\n",
    "    return end_time - start_time\n",
    "\n",
    "\n",
    "\n",
    "\"\"\"\n",
    "\n",
    "I used this while loop to simulate the quantum circuit with increasing number of qubits till the session crashed after using all RAM.\n",
    "And, found the max qubits to be 28.\n",
    "\n",
    "n_qubits = 2\n",
    "\n",
    "while True:\n",
    "  state = ket0\n",
    "  for _ in range(n_qubits - 1):\n",
    "    state = np.kron(state, ket0)\n",
    "\n",
    "  state = state.reshape((2,) * n_qubits)\n",
    "\n",
    "  runtime = measure_runtime(n_qubits)\n",
    "\n",
    "  print(n_qubits)\n",
    "  n_qubits += 1\n",
    "\n",
    "\"\"\"\n",
    "\n",
    "\n",
    "runtimes = []\n",
    "\n",
    "# starting with 2 qubits\n",
    "n_qubits = 2\n",
    "\n",
    "print(\"Number of qubits Simulated: \")\n",
    "\n",
    "while n_qubits <= 28:\n",
    "  state = ket0\n",
    "  for _ in range(n_qubits - 1):\n",
    "    state = np.kron(state, ket0)\n",
    "\n",
    "  state = state.reshape((2,) * n_qubits)\n",
    "\n",
    "  runtime = measure_runtime(n_qubits, state)\n",
    "  runtimes.append(runtime)\n",
    "\n",
    "  print(n_qubits)\n",
    "  n_qubits += 1\n",
    "\n",
    "n_qubits_range = range(2, 29)\n",
    "\n",
    "# plotting the graph of number of quibts vs runtime\n",
    "plt.figure(figsize=(10, 6))\n",
    "plt.plot(n_qubits_range, runtimes, 'bo-')\n",
    "plt.xlabel('Number of Qubits')\n",
    "plt.ylabel('Runtime (seconds)')\n",
    "plt.title('Quantum Circuit Simulation Runtime vs Number of Qubits')\n",
    "plt.grid(True)\n",
    "plt.show()\n",
    "\n",
    "print(f\"Maximum number of qubits simulated: {max(n_qubits_range)}\")"
   ]
  },
  {
   "cell_type": "markdown",
   "metadata": {
    "id": "Kw5Zt45iuMQN"
   },
   "source": [
    "Hence, I was able to simulate 28 qubits through this method.\n",
    "I think, defining the states and gates through this method was the major factor that brought this change. Still, I saw my code was mostly stuck while performing the CNOT gate operation. If there is a way to implement that part more properly, we could be able to simulate more qubits."
   ]
  },
  {
   "cell_type": "markdown",
   "metadata": {
    "id": "q9oYnbBPw3_i"
   },
   "source": [
    "Bonus Question\n",
    "\n",
    "# Sampling\n",
    "\n",
    "Since we are applying H gate and then CNOT gate, our final state is in superposition. So, from my understanding, the question has asked me to perform measurement on the final quantum state and find out the possible states. So, first I have taken an initial state of |000>, applied X gate on each of the qubits, and then H gate on each of them, and then applied CNOT gate keeping the first qubit as control and the second qubit as target, and did nothing to the third qubit in this operation.\n",
    "\n",
    "I have used the final state generated from this operation in sampling."
   ]
  },
  {
   "cell_type": "code",
   "execution_count": 7,
   "metadata": {
    "colab": {
     "base_uri": "https://localhost:8080/"
    },
    "id": "XSFouGqZw09Q",
    "outputId": "3dec33e5-0be3-4889-bcbb-3a08841ba2b9"
   },
   "outputs": [
    {
     "name": "stdout",
     "output_type": "stream",
     "text": [
      "Initial State:\n",
      "[[1]\n",
      " [0]\n",
      " [0]\n",
      " [0]\n",
      " [0]\n",
      " [0]\n",
      " [0]\n",
      " [0]]\n",
      "Final State:\n",
      "[[ 0.5]\n",
      " [-0.5]\n",
      " [-0.5]\n",
      " [ 0.5]\n",
      " [ 0. ]\n",
      " [ 0. ]\n",
      " [ 0. ]\n",
      " [ 0. ]]\n"
     ]
    }
   ],
   "source": [
    "ket000 = np.kron(ket0, np.kron(ket0, ket0))\n",
    "\n",
    "X_gate = np.kron(X, np.kron(X, X))\n",
    "H_gate = np.kron(X, np.kron(H, H))\n",
    "CNOT = np.kron(cnot, I)\n",
    "\n",
    "new_state = np.matmul(X_gate, ket000)\n",
    "new_state = np.matmul(H_gate, new_state)\n",
    "new_state = np.matmul(CNOT, new_state)\n",
    "\n",
    "print(\"Initial State:\")\n",
    "print(ket000)\n",
    "\n",
    "print(\"Final State:\")\n",
    "print(new_state)"
   ]
  },
  {
   "cell_type": "code",
   "execution_count": 8,
   "metadata": {
    "colab": {
     "base_uri": "https://localhost:8080/"
    },
    "id": "7z_9tu6pyurN",
    "outputId": "1654acc1-8441-486c-f8b2-4be408ebbb07"
   },
   "outputs": [
    {
     "name": "stdout",
     "output_type": "stream",
     "text": [
      "State |000>: 241 occurrences\n",
      "State |001>: 246 occurrences\n",
      "State |010>: 258 occurrences\n",
      "State |011>: 255 occurrences\n"
     ]
    }
   ],
   "source": [
    "# using the final state generated in the previous cell,\n",
    "\n",
    "final_state = np.array([0.5, -0.5, -0.5, 0.5, 0, 0, 0, 0])\n",
    "\n",
    "# because the probability of obtaining the state is square of its amplitude\n",
    "probabilities = np.abs(final_state)**2\n",
    "\n",
    "def sample(probabilities, num_samples):\n",
    "    return np.random.choice(len(probabilities), size=num_samples, p=probabilities)\n",
    "\n",
    "\"\"\"\n",
    "in the above function, the parameters I am passing are:\n",
    "probabilities: this is the array of the probability of obtaining each state\n",
    "num_samples: number of samples I want to take\n",
    "\n",
    "- len(probability) gives the\n",
    "\"\"\"\n",
    "\n",
    "# Generate 1000 samples\n",
    "samples = sample(probabilities, 1000)\n",
    "\n",
    "# Count occurrences\n",
    "unique, counts = np.unique(samples, return_counts=True)\n",
    "for state, count in zip(unique, counts):\n",
    "    print(f\"State |{state:03b}>: {count} occurrences\")"
   ]
  },
  {
   "cell_type": "markdown",
   "metadata": {
    "id": "ZeOAIMMg71dV"
   },
   "source": [
    "# Calculating the Expectation value:\n",
    "\n",
    "< si | Op | si >"
   ]
  },
  {
   "cell_type": "code",
   "execution_count": 9,
   "metadata": {
    "colab": {
     "base_uri": "https://localhost:8080/"
    },
    "id": "nVimU0Ecz5nF",
    "outputId": "6dfee56b-5df5-4a77-e525-970b41b34fa9"
   },
   "outputs": [
    {
     "name": "stdout",
     "output_type": "stream",
     "text": [
      "Expectation Value: \n",
      "[[0.5]]\n"
     ]
    }
   ],
   "source": [
    "ket000 = np.kron(ket0, np.kron(ket0, ket0))\n",
    "bra000 = np.kron(bra0, np.kron(bra0, bra0))\n",
    "\n",
    "# we are applying X, H and CNOT gate sequentially, so, the matrix should be CHX\n",
    "X_gate = np.kron(X, np.kron(X, X))\n",
    "H_gate = np.kron(X, np.kron(H, H))\n",
    "CNOT = np.kron(cnot, I)\n",
    "\n",
    "operator = np.matmul(CNOT, np.matmul(H_gate, X_gate))\n",
    "\n",
    "expectation_value = np.matmul(bra000, np.matmul(operator, ket000))\n",
    "\n",
    "print(\"Expectation Value: \")\n",
    "print(expectation_value)"
   ]
  }
 ],
 "metadata": {
  "colab": {
   "provenance": []
  },
  "kernelspec": {
   "display_name": "Python 3 (ipykernel)",
   "language": "python",
   "name": "python3"
  }
 },
 "nbformat": 4,
 "nbformat_minor": 0
}
